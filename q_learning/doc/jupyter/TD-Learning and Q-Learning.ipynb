{
 "cells": [
  {
   "cell_type": "markdown",
   "metadata": {
    "collapsed": true
   },
   "source": [
    "# Intro to TD-Learning and Q-Learning algorithm"
   ]
  },
  {
   "cell_type": "markdown",
   "metadata": {},
   "source": [
    "## Reinforcement Learning\n",
    "![Reinforcement Learning](refs/rl_loop.png)\n",
    "\n",
    "We don't have MDP, but we assume one. It means:\n",
    "* known set of states: \\\\(s \\in S\\\\)\n",
    "* known set of actions (per state): \\\\(a \\in A\\\\)\n",
    "* **NOT** known model (transition function): \\\\(T(s,a,s')\\\\)\n",
    "* **NOT** known reward function: \\\\(R(s,a,s')\\\\)\n",
    "\n",
    "We can't use methods used to solve MDP (e.g. Value Iteration), because those needs model and reward function. Instead, we'll be learning from trial-and-error using samples \\\\((s,a,r',s')\\\\).\n",
    "\n",
    "![Policy](refs/policy.png)"
   ]
  },
  {
   "cell_type": "markdown",
   "metadata": {},
   "source": [
    "## Learning to predict\n",
    "![Moor's law](refs/moores_law.png)\n",
    "In the past, scientists believed that AI can be solved by \"strong\" methods (incomporating human insight). Current accomplishments in Deep Learning shows that **\"weak\" general-purpose methods are the right way**. But that isn't all. To get the most from increasing computation power, we need methods that **scale with computation** e.g. supervised learning scales weakly, because we need labeled data.\n",
    "\n",
    "**Prediction learning** is general-purpose and scalable in one. You have a target just by waiting, so there is no need for human labeling."
   ]
  },
  {
   "cell_type": "markdown",
   "metadata": {},
   "source": [
    "## Temporal-difference learning is a method for learning to predict\n",
    "\n",
    "It is used in Reinforcement Learning to predict future reward. TD-Learning is behind e.g. Q-Learning algorithm. It takes adventage of states' Markov property (it's predictions are based on only current state).\n",
    "\n",
    "#### TD-Learning is learning a prediction from another, later, learned prediction.\n",
    "It's like learning a guess from another guess. In short, it works thanks to one step look ahead.\n",
    "\n",
    "$$V(S_{t}) \\gets V(S_{t}) + \\alpha [R_{t+1} + \\gamma V(S_{t+1}) - V(S_{t})]$$\n",
    "\n",
    "$$R_{t+1} + \\gamma V(S_{t+1}) - V(S_{t}) - \\text{TD error}$$\n",
    "\n",
    "\\\\(\\alpha\\\\) - learning rate  \n",
    "\\\\(\\gamma\\\\) - discount factor"
   ]
  },
  {
   "cell_type": "markdown",
   "metadata": {},
   "source": [
    "## Table Q-Learning\n",
    "\n",
    "#### Why it's better to learn Q-value?\n",
    "\n",
    "Policy from value function:\n",
    "$$\\pi(s) = \\argmax_{a}\\sum_{s'}T(s,a,s')V(s')$$\n",
    "\n",
    "It's better to learn Q-value, because we don't need a model to get a policy:\n",
    "$$\\newcommand{\\argmax}{\\arg\\max} \\pi(s) = \\argmax_{a}Q(s,a)$$\n",
    "\n",
    "#### Q-Learning is:\n",
    "* model-free\n",
    "* off-policy\n",
    "\n",
    "$$Q(s,a) \\gets Q(s,a) + \\alpha [r + \\gamma \\max_{a'} Q(s',a') - Q(s,a)]$$"
   ]
  },
  {
   "cell_type": "code",
   "execution_count": 5,
   "metadata": {},
   "outputs": [
    {
     "name": "stderr",
     "output_type": "stream",
     "text": [
      "[2017-10-02 19:35:05,135] Making new env: FrozenLake-v0\n"
     ]
    },
    {
     "name": "stdout",
     "output_type": "stream",
     "text": [
      "OpenAI Gym FrozenLake:\n",
      "SFFF (S: starting point, safe)\n",
      "FHFH (F: frozen surface, safe)\n",
      "FFFH (H: hole, fall to your doom)\n",
      "HFFG (G: goal, where the frisbee is located)\n",
      "\n",
      "Average score over all episodes: 0.301\n",
      "\n",
      "Final Q-Table Values\n",
      "[[  4.87930785e-02   9.79782595e-03   1.34577752e-02   2.18753753e-02]\n",
      " [  5.73013371e-03   1.16070721e-03   5.39143043e-04   1.70636379e-01]\n",
      " [  2.24842080e-02   4.09209590e-03   6.60626865e-03   9.52457326e-02]\n",
      " [  1.14001987e-03   1.22472192e-02   5.92213801e-04   7.05023817e-02]\n",
      " [  8.19558792e-02   8.76174852e-03   2.17943838e-04   2.09388806e-03]\n",
      " [  0.00000000e+00   0.00000000e+00   0.00000000e+00   0.00000000e+00]\n",
      " [  1.78124164e-04   4.59690222e-04   6.41925091e-03   7.37228111e-04]\n",
      " [  0.00000000e+00   0.00000000e+00   0.00000000e+00   0.00000000e+00]\n",
      " [  2.35095648e-04   3.42327579e-04   8.15190729e-05   2.99668715e-01]\n",
      " [  2.08867023e-03   2.01181195e-01   3.75398793e-04   1.62121576e-04]\n",
      " [  5.78908212e-02   1.21253651e-03   5.59416534e-05   5.92563141e-05]\n",
      " [  0.00000000e+00   0.00000000e+00   0.00000000e+00   0.00000000e+00]\n",
      " [  0.00000000e+00   0.00000000e+00   0.00000000e+00   0.00000000e+00]\n",
      " [  0.00000000e+00   1.96961061e-02   6.07733930e-01   2.99035429e-02]\n",
      " [  0.00000000e+00   0.00000000e+00   0.00000000e+00   8.39891590e-01]\n",
      " [  0.00000000e+00   0.00000000e+00   0.00000000e+00   0.00000000e+00]]\n"
     ]
    },
    {
     "data": {
      "image/png": "[encoded data removed]",
      "text/plain": [
       "<matplotlib.figure.Figure at 0x7fb8695b0c50>"
      ]
     },
     "metadata": {},
     "output_type": "display_data"
    }
   ],
   "source": [
    "import gym\n",
    "import numpy as np\n",
    "import matplotlib.pyplot as plt\n",
    "%matplotlib inline\n",
    "\n",
    "env = gym.make('FrozenLake-v0')\n",
    "\n",
    "# Initialize Q-table with all zeros\n",
    "Q = np.zeros([env.observation_space.n,env.action_space.n])\n",
    "\n",
    "# Set learning hiperparameters\n",
    "lr = .8\n",
    "y = .95\n",
    "num_episodes = 2000\n",
    "\n",
    "# Create list to store rewards\n",
    "rList = []\n",
    "for i in range(num_episodes):\n",
    "    # Reset environment and get first new observation\n",
    "    s = env.reset()\n",
    "    done = False\n",
    "    rSum = 0\n",
    "\n",
    "    #The Q-Table learning algorithm\n",
    "    for _ in range(99):\n",
    "        #Choose an action by greedily (with noise) picking from Q table\n",
    "        a = np.argmax(Q[s,:] + np.random.randn(1,env.action_space.n)*(10./(i+1)))\n",
    "        \n",
    "        #Get new state and reward from environment\n",
    "        s1,r,done,_ = env.step(a)\n",
    "        #Update Q-Table with new knowledge\n",
    "        Q[s,a] = Q[s,a] + lr*(r + y*np.max(Q[s1,:]) - Q[s,a])\n",
    "        \n",
    "        rSum += r\n",
    "        s = s1\n",
    "        if done == True:\n",
    "            break\n",
    "    rList.append(rSum)\n",
    "\n",
    "# Calculate list of running averages\n",
    "rRunTmp = .0\n",
    "rRun = []\n",
    "for r in rList:\n",
    "    rRunTmp =  r / 100 + rRunTmp * 99 / 100\n",
    "    rRun.append(rRunTmp)\n",
    "plt.plot(rRun)\n",
    "    \n",
    "print(\"OpenAI Gym FrozenLake:\")\n",
    "print(\"SFFF (S: starting point, safe)\")\n",
    "print(\"FHFH (F: frozen surface, safe)\")\n",
    "print(\"FFFH (H: hole, fall to your doom)\")\n",
    "print(\"HFFG (G: goal, where the frisbee is located)\")\n",
    "print(\"\")\n",
    "print(\"Average score over all episodes: {}\".format(sum(rList)/num_episodes))\n",
    "print(\"\")\n",
    "print(\"Final Q-Table Values\")\n",
    "print(Q)"
   ]
  },
  {
   "cell_type": "code",
   "execution_count": 6,
   "metadata": {},
   "outputs": [
    {
     "name": "stdout",
     "output_type": "stream",
     "text": [
      "Average score over all episodes: 0.61\n"
     ]
    }
   ],
   "source": [
    "# Set number of validation episodes\n",
    "num_episodes = 1000\n",
    "\n",
    "# Create list to store rewards\n",
    "rList = []\n",
    "for i in range(num_episodes):\n",
    "    # Reset environment and get first new observation\n",
    "    s = env.reset()\n",
    "    done = False\n",
    "    rSum = 0\n",
    "\n",
    "    #The Q-Table learning algorithm\n",
    "    for _ in range(99):\n",
    "        #Choose an action by greedily picking from Q table\n",
    "        a = np.argmax(Q[s,:])\n",
    "        \n",
    "        #Get new state and reward from environment\n",
    "        s1,r,done,_ = env.step(a)\n",
    "        \n",
    "        rSum += r\n",
    "        s = s1\n",
    "        if done == True:\n",
    "            break\n",
    "    rList.append(rSum)\n",
    "\n",
    "print(\"Average score over all episodes: {}\".format(sum(rList)/num_episodes))"
   ]
  },
  {
   "cell_type": "markdown",
   "metadata": {},
   "source": [
    "### References:\n",
    "* [Deep Learning and Reinforcement Learning Summer School 2017, \"TD Learning\" speech by R. Sutton](http://videolectures.net/deeplearning2017_sutton_td_learning/)\n",
    "* [Berkeley CS188, \"Reinforcement Learning I/II\" lecture by \n",
    "Pieter Abbeel](http://ai.berkeley.edu/lecture_videos.html)\n",
    "* [Simple Reinforcement Learning with Tensorflow Part 0: Q-Learning with Tables and Neural Networks](https://medium.com/emergent-future/simple-reinforcement-learning-with-tensorflow-part-0-q-learning-with-tables-and-neural-networks-d195264329d0)"
   ]
  }
 ],
 "metadata": {
  "kernelspec": {
   "display_name": "Python 2",
   "language": "python",
   "name": "python2"
  },
  "language_info": {
   "codemirror_mode": {
    "name": "ipython",
    "version": 2
   },
   "file_extension": ".py",
   "mimetype": "text/x-python",
   "name": "python",
   "nbconvert_exporter": "python",
   "pygments_lexer": "ipython2",
   "version": "2.7.12"
  }
 },
 "nbformat": 4,
 "nbformat_minor": 2
}
